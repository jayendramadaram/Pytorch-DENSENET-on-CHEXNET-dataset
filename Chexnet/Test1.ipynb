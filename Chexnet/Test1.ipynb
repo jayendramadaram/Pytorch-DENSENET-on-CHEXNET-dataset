{
 "cells": [
  {
   "cell_type": "markdown",
   "metadata": {},
   "source": [
    "> Chexnet Implemented IN PYTORCH"
   ]
  },
  {
   "cell_type": "markdown",
   "metadata": {},
   "source": [
    "Imports [Modules required]"
   ]
  },
  {
   "cell_type": "code",
   "execution_count": 2,
   "metadata": {},
   "outputs": [
    {
     "name": "stderr",
     "output_type": "stream",
     "text": [
      "/home/kmit-nvidia/.local/lib/python3.8/site-packages/tqdm/auto.py:22: TqdmWarning: IProgress not found. Please update jupyter and ipywidgets. See https://ipywidgets.readthedocs.io/en/stable/user_install.html\n",
      "  from .autonotebook import tqdm as notebook_tqdm\n"
     ]
    }
   ],
   "source": [
    "import os\n",
    "import sys\n",
    "import time\n",
    "import torch\n",
    "import shutil\n",
    "import tarfile\n",
    "import speedtest\n",
    "import torchvision\n",
    "import numpy as np\n",
    "import urllib.request\n",
    "from PIL import Image\n",
    "import torch.nn as nn\n",
    "import torch.optim as optim\n",
    "import matplotlib.pyplot as plt\n",
    "import torch.nn.functional as func\n",
    "import torch.nn.functional as tfunc\n",
    "from IPython.display import display\n",
    "import torch.backends.cudnn as cudnn\n",
    "from torch.utils.data import Dataset\n",
    "from torch.utils.data import DataLoader\n",
    "import torchvision.transforms as transforms\n",
    "from sklearn.metrics._ranking import roc_auc_score\n",
    "from torch.optim.lr_scheduler import ReduceLROnPlateau\n",
    "\n",
    "\n",
    "%matplotlib inline"
   ]
  },
  {
   "cell_type": "code",
   "execution_count": 34,
   "metadata": {},
   "outputs": [
    {
     "name": "stdout",
     "output_type": "stream",
     "text": [
      "Download speed: 11.90 Mbps\n",
      "Upload speed: 11.93 Mbps\n"
     ]
    }
   ],
   "source": [
    "\n",
    "\n",
    "# Create a speedtest object\n",
    "st = speedtest.Speedtest()\n",
    "\n",
    "# Get download speed in bits per second and convert to Mbps\n",
    "download_speed = st.download() / 1000000\n",
    "\n",
    "# Get upload speed in bits per second and convert to Mbps\n",
    "upload_speed = st.upload() / 1000000\n",
    "\n",
    "# Print the results\n",
    "print(f\"Download speed: {download_speed:.2f} Mbps\")\n",
    "print(f\"Upload speed: {upload_speed:.2f} Mbps\")\n"
   ]
  },
  {
   "cell_type": "code",
   "execution_count": 4,
   "metadata": {},
   "outputs": [
    {
     "ename": "SyntaxError",
     "evalue": "invalid syntax (74436458.py, line 36)",
     "output_type": "error",
     "traceback": [
      "\u001b[0;36m  Input \u001b[0;32mIn [4]\u001b[0;36m\u001b[0m\n\u001b[0;31m    About to take lot of time hence runing script as independent File imgdownload.py\u001b[0m\n\u001b[0m          ^\u001b[0m\n\u001b[0;31mSyntaxError\u001b[0m\u001b[0;31m:\u001b[0m invalid syntax\n"
     ]
    }
   ],
   "source": [
    "# # Download DATASET required for Chesxnet\n",
    "\n",
    "#!/usr/bin/env python3\n",
    "# Download the 56 zip files in Images_png in batches\n",
    "\n",
    "\n",
    "# URLs for the zip files\n",
    "links = [\n",
    "    'https://nihcc.box.com/shared/static/vfk49d74nhbxq3nqjg0900w5nvkorp5c.gz',\n",
    "    'https://nihcc.box.com/shared/static/i28rlmbvmfjbl8p2n3ril0pptcmcu9d1.gz',\n",
    "    'https://nihcc.box.com/shared/static/f1t00wrtdk94satdfb9olcolqx20z2jp.gz',\n",
    "\t'https://nihcc.box.com/shared/static/0aowwzs5lhjrceb3qp67ahp0rd1l1etg.gz',\n",
    "    'https://nihcc.box.com/shared/static/v5e3goj22zr6h8tzualxfsqlqaygfbsn.gz',\n",
    "\t'https://nihcc.box.com/shared/static/asi7ikud9jwnkrnkj99jnpfkjdes7l6l.gz',\n",
    "\t'https://nihcc.box.com/shared/static/jn1b4mw4n6lnh74ovmcjb8y48h8xj07n.gz',\n",
    "    'https://nihcc.box.com/shared/static/tvpxmn7qyrgl0w8wfh9kqfjskv6nmm1j.gz',\n",
    "\t'https://nihcc.box.com/shared/static/upyy3ml7qdumlgk2rfcvlb9k6gvqq2pj.gz',\n",
    "\t'https://nihcc.box.com/shared/static/l6nilvfa9cg3s28tqv1qc1olm3gnz54p.gz',\n",
    "\t'https://nihcc.box.com/shared/static/hhq8fkdgvcari67vfhs7ppg2w6ni4jze.gz',\n",
    "\t'https://nihcc.box.com/shared/static/ioqwiy20ihqwyr8pf4c24eazhh281pbu.gz'\n",
    "]\n",
    "\n",
    "def progress_bar(block_num, block_size, total_size):\n",
    "    percentage = (block_num * block_size * 100) / total_size\n",
    "    \n",
    "    if (int(percentage) in [10 , 25 , 50 , 75 ]):\n",
    "        print(f\"Downloaded {percentage : 2f}% of file\")\n",
    "    \n",
    "\n",
    "for idx, link in enumerate(links):\n",
    "    \n",
    "    fn = 'images_%02d.tar.gz' % (idx+1)\n",
    "    print('downloading '+fn+' ...')\n",
    "    urllib.request.urlretrieve(link, fn , reporthook=progress_bar ) \n",
    "    \n",
    "#estimated time in DGX 6*10*12 == 12 hours damn\n",
    "# About to take lot of time hence runing script as independent File imgdownload.py using SCREEN tool"
   ]
  },
  {
   "cell_type": "code",
   "execution_count": 3,
   "metadata": {},
   "outputs": [
    {
     "name": "stdout",
     "output_type": "stream",
     "text": [
      "/home/kmit-nvidia/jay/Chexnet\n",
      "['output.log', 'ZIP_DATASET', 'database', 'dataset', 'Test.ipynb', 'm-25012018-123527.pth.tar', '.ipynb_checkpoints', 'imgdownload.py']\n"
     ]
    }
   ],
   "source": [
    "#inspecting File Structure\n",
    "current_path = os.getcwd()\n",
    "print(current_path)\n",
    "\n",
    "files = os.listdir('.')\n",
    "print(files)\n"
   ]
  },
  {
   "cell_type": "code",
   "execution_count": 5,
   "metadata": {},
   "outputs": [
    {
     "name": "stdout",
     "output_type": "stream",
     "text": [
      "images_11.tar.gz\n",
      "images_05.tar.gz\n",
      "images_12.tar.gz\n",
      "images_07.tar.gz\n",
      "images_02.tar.gz\n",
      "images_01.tar.gz\n",
      "images_10.tar.gz\n",
      "images_08.tar.gz\n",
      "images_03.tar.gz\n",
      "images_06.tar.gz\n",
      "images_04.tar.gz\n",
      "images_09.tar.gz\n"
     ]
    }
   ],
   "source": [
    "for i in os.listdir('.'):\n",
    "  if i.endswith('tar.gz'):\n",
    "    print(i)\n",
    "    with tarfile.open(i, 'r:gz') as tar:tar.extractall(f'database/{i[:-7]}')\n",
    "    # os.remove(i)"
   ]
  },
  {
   "cell_type": "code",
   "execution_count": 8,
   "metadata": {},
   "outputs": [],
   "source": [
    "# dataset file structure formation\n",
    "for i in os.listdir('database'):\n",
    "    if len(os.listdir(f\"database/{i}\")) == 0:\n",
    "        os.rmdir(f\"database/{i}\")\n",
    "    # input(\"hehe\")"
   ]
  },
  {
   "cell_type": "code",
   "execution_count": 4,
   "metadata": {},
   "outputs": [],
   "source": [
    "class DATASET(Dataset):\n",
    "    def __init__(self , transform=None , Train=False ) -> None:\n",
    "        \n",
    "        self.records = []\n",
    "        self.transform = transform\n",
    "        \n",
    "        if not Train:\n",
    "            path = \"dataset/test.txt\"\n",
    "        else:\n",
    "            path = \"TO BE DEFINED\"\n",
    "        \n",
    "        with open(path , \"r\") as file:\n",
    "            # print(len(file.readlines()))\n",
    "            for i in file.readlines():\n",
    "                record = i.split()\n",
    "                item = (record[0] , list(map(int , record[1:])))\n",
    "                self.records.append(item)\n",
    "                # print(os.path.exists(f\"database/{record[0]}\"))\n",
    "                \n",
    "                \n",
    "        \n",
    "        print(\"Total number of Imgs\" , len(self.records))\n",
    "    \n",
    "    def __getitem__(self, index) :\n",
    "        \n",
    "        IMG = self.records[index]\n",
    "        # print(IMG)\n",
    "        PIL_img = Image.open(\"database/\" +IMG[0]).convert(\"RGB\")\n",
    "        LABEL_img = torch.FloatTensor( IMG[1])\n",
    "        if self.transform != None: PIL_img = self.transform(PIL_img)\n",
    "        \n",
    "        return PIL_img , LABEL_img\n",
    "    \n",
    "    def __len__(self):\n",
    "        return len(self.records)\n",
    "        \n",
    "        \n",
    "                \n",
    "        \n",
    "        "
   ]
  },
  {
   "cell_type": "code",
   "execution_count": 5,
   "metadata": {},
   "outputs": [
    {
     "name": "stdout",
     "output_type": "stream",
     "text": [
      "Total number of Imgs 22433\n"
     ]
    },
    {
     "data": {
      "image/png": "[encoded data removed]",
      "text/plain": [
       "<Figure size 432x288 with 1 Axes>"
      ]
     },
     "metadata": {
      "needs_background": "light"
     },
     "output_type": "display_data"
    }
   ],
   "source": [
    "JaysObj = DATASET()\n",
    "ITEM = JaysObj.__getitem__(0)\n",
    "plt.imshow(ITEM[0])\n",
    "plt.show()\n"
   ]
  },
  {
   "cell_type": "code",
   "execution_count": 22,
   "metadata": {},
   "outputs": [],
   "source": [
    "class DENSENET(nn.Module):\n",
    "    \n",
    "    def __init__(self) -> None:\n",
    "        super(DENSENET , self).__init__()\n",
    "        self.densenet121 = torchvision.models.densenet121(pretrained=True)\n",
    "\n",
    "        kernelCount = self.densenet121.classifier.in_features\n",
    "        print(kernelCount)\n",
    "        self.densenet121.classifier = nn.Sequential(nn.Linear(kernelCount, 14), nn.Sigmoid())\n",
    "\n",
    "    def forward(self, x):\n",
    "        return self.densenet121(x)\n"
   ]
  },
  {
   "cell_type": "code",
   "execution_count": 24,
   "metadata": {},
   "outputs": [],
   "source": [
    "def computeAUROC (dataGT, dataPRED, classCount):\n",
    "        \n",
    "        outAUROC = []\n",
    "        \n",
    "        datanpGT = dataGT.cpu().numpy()\n",
    "        datanpPRED = dataPRED.cpu().numpy()\n",
    "        \n",
    "        for i in range(classCount):\n",
    "            outAUROC.append(roc_auc_score(datanpGT[:, i], datanpPRED[:, i]))\n",
    "            \n",
    "        return outAUROC"
   ]
  },
  {
   "cell_type": "code",
   "execution_count": 25,
   "metadata": {},
   "outputs": [
    {
     "name": "stderr",
     "output_type": "stream",
     "text": [
      "/home/kmit-nvidia/.local/lib/python3.8/site-packages/torchvision/models/_utils.py:208: UserWarning: The parameter 'pretrained' is deprecated since 0.13 and may be removed in the future, please use 'weights' instead.\n",
      "  warnings.warn(\n",
      "/home/kmit-nvidia/.local/lib/python3.8/site-packages/torchvision/models/_utils.py:223: UserWarning: Arguments other than a weight enum or `None` for 'weights' are deprecated since 0.13 and may be removed in the future. The current behavior is equivalent to passing `weights=DenseNet121_Weights.IMAGENET1K_V1`. You can also use `weights=DenseNet121_Weights.DEFAULT` to get the most up-to-date weights.\n",
      "  warnings.warn(msg)\n"
     ]
    },
    {
     "name": "stdout",
     "output_type": "stream",
     "text": [
      "1024\n",
      "Total number of Imgs 22433\n"
     ]
    }
   ],
   "source": [
    "DISEASES = [ 'Atelectasis', 'Cardiomegaly', 'Effusion', 'Infiltration', 'Mass', 'Nodule', 'Pneumonia',\n",
    "                'Pneumothorax', 'Consolidation', 'Edema', 'Emphysema', 'Fibrosis', 'Pleural_Thickening', 'Hernia']\n",
    "\n",
    "cudnn.benchmark = True\n",
    "\n",
    "model = DENSENET()\n",
    "device_ids = [0, 1, 2]\n",
    "model = torch.nn.DataParallel(model , device_ids=device_ids).cuda()\n",
    "modelCheckpoint = torch.load(\"models/m-25012018-123527.pth.tar\")\n",
    "model.load_state_dict(modelCheckpoint['state_dict'] , strict=False)\n",
    "normalize = transforms.Normalize([0.485, 0.456, 0.406], [0.229, 0.224, 0.225])\n",
    "\n",
    "IMG_TRANSFORM = transforms.Compose(\n",
    "    [transforms.Resize(256),\n",
    "    transforms.TenCrop(224),\n",
    "    transforms.Lambda(lambda crops: torch.stack([transforms.ToTensor()(crop) for crop in crops])),\n",
    "    transforms.Lambda(lambda crops: torch.stack([normalize(crop) for crop in crops])) ]  \n",
    ")\n",
    "\n",
    "DatasetGEN = DATASET(transform=IMG_TRANSFORM)\n",
    "Dataloader =  DataLoader(dataset=DatasetGEN, batch_size=16, num_workers=8, shuffle=False, pin_memory=True)\n",
    "\n",
    "outGT = torch.FloatTensor().cuda()\n",
    "outPRED = torch.FloatTensor().cuda()\n",
    "\n",
    "\n"
   ]
  },
  {
   "cell_type": "code",
   "execution_count": 31,
   "metadata": {},
   "outputs": [
    {
     "name": "stdout",
     "output_type": "stream",
     "text": [
      "torch.Size([16, 10, 3, 224, 224])\n"
     ]
    }
   ],
   "source": [
    "#predict for single\n",
    "\n",
    "model.eval()\n",
    "\n",
    "for i, (input, target) in enumerate(Dataloader):\n",
    "    # print(f\"BATCH {i}\")\n",
    "    target = target.cuda()\n",
    "    outGT = torch.cat((outGT, target), 0)\n",
    "    \n",
    "    bs, n_crops, c, h, w = input.size()\n",
    "    \n",
    "    varInput = torch.autograd.Variable(input.view(-1, c, h, w).cuda(), volatile=True)\n",
    "    \n",
    "    out = model(varInput)\n",
    "    outMean = out.view(bs, n_crops, -1).mean(1)\n",
    "    \n",
    "    outPRED = torch.cat((outPRED, outMean.data), 0)\n",
    "    \n",
    "    \n",
    "aurocIndividual = computeAUROC(outGT, outPRED, 14)\n",
    "aurocMean = np.array(aurocIndividual).mean()\n",
    "\n",
    "print ('AUROC mean ', aurocMean)\n",
    "\n",
    "for i in range (0, len(aurocIndividual)):\n",
    "    print (DISEASES[i], ' ', aurocIndividual[i])"
   ]
  },
  {
   "cell_type": "code",
   "execution_count": 47,
   "metadata": {},
   "outputs": [
    {
     "name": "stdout",
     "output_type": "stream",
     "text": [
      "Total number of Imgs 22433\n",
      "tensor([0., 0., 0., 1., 0., 0., 0., 0., 0., 0., 0., 0., 0., 0.])\n"
     ]
    },
    {
     "data": {
      "text/plain": [
       "(tensor([8.1198e-02, 4.8223e-03, 8.1068e-02, 1.8976e-01, 1.3393e-02, 1.2332e-02,\n",
       "         2.6999e-03, 2.7916e-03, 1.7939e-02, 1.7421e-03, 9.0991e-04, 5.7380e-03,\n",
       "         1.1354e-02, 9.5703e-05], device='cuda:0', grad_fn=<SelectBackward0>),\n",
       " tensor([8.4241e-02, 4.8730e-03, 8.6683e-02, 1.8508e-01, 1.2310e-02, 1.1873e-02,\n",
       "         2.4036e-03, 2.4535e-03, 1.7361e-02, 2.0344e-03, 1.0040e-03, 5.8637e-03,\n",
       "         1.1511e-02, 8.7815e-05], device='cuda:0', grad_fn=<SelectBackward0>))"
      ]
     },
     "execution_count": 47,
     "metadata": {},
     "output_type": "execute_result"
    }
   ],
   "source": [
    "model.eval()\n",
    "SET = DATASET(transform=IMG_TRANSFORM)\n",
    "ITEM = SET.__getitem__(15)\n",
    "print(ITEM[1])\n",
    "input = ITEM[0]\n",
    "# input.size()\n",
    "n_crops, c, h, w = input.size()\n",
    "bs = 16\n",
    "\n",
    "varInput = torch.autograd.Variable(input)\n",
    "out = model.forward(varInput)\n",
    "outMean = out.view( n_crops, -1)\n",
    "\n",
    "outMean[0] , outMean[1]"
   ]
  },
  {
   "cell_type": "code",
   "execution_count": null,
   "metadata": {},
   "outputs": [],
   "source": []
  }
 ],
 "metadata": {
  "kernelspec": {
   "display_name": "Python 3 (ipykernel)",
   "language": "python",
   "name": "python3"
  },
  "language_info": {
   "codemirror_mode": {
    "name": "ipython",
    "version": 3
   },
   "file_extension": ".py",
   "mimetype": "text/x-python",
   "name": "python",
   "nbconvert_exporter": "python",
   "pygments_lexer": "ipython3",
   "version": "3.8.10"
  },
  "varInspector": {
   "cols": {
    "lenName": 16,
    "lenType": 16,
    "lenVar": 40
   },
   "kernels_config": {
    "python": {
     "delete_cmd_postfix": "",
     "delete_cmd_prefix": "del ",
     "library": "var_list.py",
     "varRefreshCmd": "print(var_dic_list())"
    },
    "r": {
     "delete_cmd_postfix": ") ",
     "delete_cmd_prefix": "rm(",
     "library": "var_list.r",
     "varRefreshCmd": "cat(var_dic_list()) "
    }
   },
   "types_to_exclude": [
    "module",
    "function",
    "builtin_function_or_method",
    "instance",
    "_Feature"
   ],
   "window_display": false
  }
 },
 "nbformat": 4,
 "nbformat_minor": 2
}
